{
 "cells": [
  {
   "cell_type": "markdown",
   "metadata": {},
   "source": [
    "## Operador ternário\n",
    "- Usar operador ternário quando as alternativas forem pequenas, e quando tiver apenas 2 ou no máximo 3 alternativas.\n",
    "- No exemplo a variável precisa ser inteira"
   ]
  },
  {
   "cell_type": "code",
   "execution_count": 10,
   "metadata": {},
   "outputs": [
    {
     "name": "stdout",
     "output_type": "stream",
     "text": [
      "karython é maior de idade.\n"
     ]
    }
   ],
   "source": [
    "nome = 'karython'\n",
    "idade = 18\n",
    "\n",
    "print(nome, 'é maior de idade.' if idade >= 18 else 'é menor de idade')"
   ]
  },
  {
   "cell_type": "markdown",
   "metadata": {},
   "source": [
    "## Replace\n",
    "- substituir"
   ]
  },
  {
   "cell_type": "code",
   "execution_count": 5,
   "metadata": {},
   "outputs": [
    {
     "name": "stdout",
     "output_type": "stream",
     "text": [
      "<class 'str'>\n",
      "<class 'float'>\n"
     ]
    }
   ],
   "source": [
    "peso = input(\"Digite seu peso: \").replace(',','.')\n",
    "print(type(peso))\n",
    "peso = float(peso)\n",
    "print(type(peso))\n"
   ]
  },
  {
   "cell_type": "markdown",
   "metadata": {},
   "source": [
    "## Desafio 01\n",
    "- Crie um programa para fazer a verificação de um cliente para saber se ele pode usar o brinquedo ou não.\n",
    "    - Para brincar ele precisa:\n",
    "        - ter mais que 12 anos\n",
    "        - ter altura minima de 1,20 mts"
   ]
  },
  {
   "cell_type": "code",
   "execution_count": 3,
   "metadata": {},
   "outputs": [
    {
     "name": "stdout",
     "output_type": "stream",
     "text": [
      "Autorizado brincar!\n"
     ]
    }
   ],
   "source": [
    "cliente = 'Eulete'\n",
    "idade = 12\n",
    "altura = 1.20\n",
    "\n",
    "if idade >= 12 and altura >= 1.20:\n",
    "    print(\"Autorizado brincar!\")\n",
    "else:\n",
    "    print('Nao autorizado!')\n",
    "\n",
    "\n"
   ]
  },
  {
   "cell_type": "markdown",
   "metadata": {},
   "source": [
    "## Desafio 02\n",
    "- Crie um programa que verifica se o aluno poderar ir a praia.\n",
    "    - Para ir a praia ele precisa:\n",
    "        - Verifica se acordei de bom humor\n",
    "        - Verifica se o pai ja chegou em casa para leva-lo"
   ]
  },
  {
   "cell_type": "code",
   "execution_count": 2,
   "metadata": {},
   "outputs": [
    {
     "name": "stdout",
     "output_type": "stream",
     "text": [
      "Você pode ir\n"
     ]
    }
   ],
   "source": [
    "aluno = input('Digite nome do aluno')\n",
    "humor = input('Informe se seu humor é true ou false')\n",
    "\n",
    "if(humor == 'true'):\n",
    "    humorBooleano = True\n",
    "else:\n",
    "    humorBooleano = False\n",
    "\n",
    "pai = input('Informe se seu pai está em casa com true ou false')\n",
    "if(pai == 'true'):\n",
    "    paiBooleano = True\n",
    "else:\n",
    "    paiBooleano = False\n",
    "\n",
    "\n",
    "if humorBooleano and paiBooleano == True:\n",
    "    print('Você pode ir')\n",
    "else:\n",
    "    print('Voce nao pode ir')\n"
   ]
  },
  {
   "cell_type": "markdown",
   "metadata": {},
   "source": [
    "## Desafio 03\n",
    "- Crie um programa que modifique o cpf digitado\n",
    "    - pegue um cpf qualquer com todos os digitos:\n",
    "        - remova os caracteres\n",
    "        - imprima o cpf sem modificação\n",
    "        - imprima o cpf com modificação"
   ]
  },
  {
   "cell_type": "code",
   "execution_count": 12,
   "metadata": {},
   "outputs": [
    {
     "name": "stdout",
     "output_type": "stream",
     "text": [
      "984000881-15\n",
      "98400088115\n"
     ]
    }
   ],
   "source": [
    "cpf = input('Digite o cpf:')\n",
    "print(cpf)\n",
    "\n",
    "cpf = input('Digite novamente o cpf com hifen'). replace('-','')\n",
    "\n",
    "print(cpf)"
   ]
  },
  {
   "cell_type": "markdown",
   "metadata": {},
   "source": [
    "## Desafio 04\n",
    "- Crie uma calculadora de IMC\n",
    "    - Imprima as seguintes condições:?\n",
    "        - imc <17: está com anorexia.\n",
    "        - imc <18.5: está abaixo do peso\n",
    "        - imc <25: está no peso ideal.\n",
    "        - imc <30: está acima do peso.\n",
    "        - imc <35: está com grau de obesidade I.\n",
    "        - imc <40: está com grau de obesidade II.\n",
    "        - imc: está com grau de obesidade mórbida."
   ]
  },
  {
   "cell_type": "code",
   "execution_count": 2,
   "metadata": {},
   "outputs": [
    {
     "name": "stdout",
     "output_type": "stream",
     "text": [
      "Está no peso ideal. \n"
     ]
    }
   ],
   "source": [
    "nome = input('Digite seu nome: ')\n",
    "peso = float(input('Digite seu peso: '))\n",
    "altura = float(input('Digite sua altura'))\n",
    "\n",
    "imc = peso / (altura * altura)\n",
    "\n",
    "if imc < 17:\n",
    "    print('Você está com anorexia.')\n",
    "elif imc < 18.5:\n",
    "    print('Você está abaixo do peso. ')\n",
    "elif imc < 25:\n",
    "    print('Está no peso ideal. ')\n",
    "elif imc < 30:\n",
    "    print('Você está acima do peso ')\n",
    "elif imc < 35:\n",
    "    print('Você está com grau de obesidade I. ')\n",
    "elif imc < 40:\n",
    "    print('Você está com grau de obesidade II. ')\n",
    "else:\n",
    "    print('Grau de obesidade morbida.....')"
   ]
  },
  {
   "cell_type": "markdown",
   "metadata": {},
   "source": [
    "## Desafio 05\n",
    "- Crie uma calculadora basica.\n",
    "    - Solicite 2 números do usuário e pergunte qual operação matemática ele deseja fazer.\n",
    "        -   +; -; /; *\n",
    "        - imprima o resultado correto para cada operação"
   ]
  },
  {
   "cell_type": "code",
   "execution_count": 1,
   "metadata": {},
   "outputs": [
    {
     "name": "stdout",
     "output_type": "stream",
     "text": [
      "O resultado da operação soma é: 20 \n"
     ]
    }
   ],
   "source": [
    "\n",
    "n1 = (input('Digite um numero:'))\n",
    "n2 = (input('Digite o segundo numero:'))\n",
    "operador = input('Qual operação deseja?\\n Soma digite +\\n Subtração digite -\\n Multiplicação digite x\\n Divisão digite /')\n",
    "\n",
    "n1 = int(n1)\n",
    "n2 = int(n2)\n",
    "\n",
    "soma = n1 + n2\n",
    "subt = n1 - n2\n",
    "mult = n1 * n2\n",
    "divisao = n1 / n2\n",
    "\n",
    "if operador == '+':\n",
    "    print(f'O resultado da operação soma é: {soma} ')\n",
    "elif operador == '-':\n",
    "    print(f'O resultado da subtração é: {subt} ')\n",
    "\n",
    "elif operador == 'x':\n",
    "    print(f'O resultado da multiplicação é:  {mult} ')\n",
    "\n",
    "else:\n",
    "    print(f'O resultado da divisão é:  {divisao} ')"
   ]
  },
  {
   "cell_type": "markdown",
   "metadata": {},
   "source": [
    "## Calculadora de IMC\n",
    "- Usando o loop while"
   ]
  },
  {
   "cell_type": "code",
   "execution_count": 4,
   "metadata": {},
   "outputs": [
    {
     "name": "stdout",
     "output_type": "stream",
     "text": [
      "Está no peso ideal. \n",
      "Ok, saindo do sistema!\n"
     ]
    }
   ],
   "source": [
    "while True:\n",
    "    opcao = input('Deseja calcular um IMC? (s/n): ').lower()\n",
    "\n",
    "    if opcao == 's':\n",
    "        peso = float(input('Digite seu peso: '))\n",
    "        altura = float(input('Digite sua altura'))\n",
    "\n",
    "        imc = peso / (altura * altura)\n",
    "\n",
    "        if imc < 17:\n",
    "            print('Você está com anorexia.')\n",
    "        elif imc < 18.5:\n",
    "            print('Você está abaixo do peso. ')\n",
    "        elif imc < 25:\n",
    "            print('Está no peso ideal. ')\n",
    "        elif imc < 30:\n",
    "            print('Você está acima do peso ')\n",
    "        elif imc < 35:\n",
    "            print('Você está com grau de obesidade I. ')\n",
    "        elif imc < 40:\n",
    "            print('Você está com grau de obesidade II. ')\n",
    "        else:\n",
    "            print('Grau de obesidade morbida.....')  \n",
    "    else:\n",
    "        print('Ok, saindo do sistema!')\n",
    "        break\n",
    "    \n",
    "\n"
   ]
  },
  {
   "cell_type": "markdown",
   "metadata": {},
   "source": [
    "# Calculadora "
   ]
  },
  {
   "cell_type": "code",
   "execution_count": 10,
   "metadata": {},
   "outputs": [
    {
     "name": "stdout",
     "output_type": "stream",
     "text": [
      "O resultado da operação soma é: 20 \n",
      "Ok! Encerrando..\n"
     ]
    }
   ],
   "source": [
    "while True:\n",
    "    opcao =  input('Deseja fazer algum calculo? (s/n) ').lower()\n",
    "\n",
    "    if opcao == 's':\n",
    "\n",
    "        n1 = (input('Digite um numero:'))\n",
    "        n2 = (input('Digite o segundo numero:'))\n",
    "        operador = input('Qual operação deseja?\\n Soma digite +\\n Subtração digite -\\n Multiplicação digite x\\n Divisão digite /')\n",
    "\n",
    "        n1 = int(n1)\n",
    "        n2 = int(n2)\n",
    "\n",
    "        soma = n1 + n2\n",
    "        subt = n1 - n2\n",
    "        mult = n1 * n2\n",
    "        divisao = n1 / n2\n",
    "\n",
    "        if operador == '+':\n",
    "             print(f'O resultado da operação soma é: {soma} ')\n",
    "        elif operador == '-':\n",
    "            print(f'O resultado da subtração é: {subt} ')\n",
    "\n",
    "        elif operador == 'x':\n",
    "            print(f'O resultado da multiplicação é:  {mult} ')\n",
    "\n",
    "        else:\n",
    "            print(f'O resultado da divisão é:  {divisao} ')\n",
    "    \n",
    "    else: \n",
    "        print('Ok! Encerrando..')\n",
    "        break\n",
    "        \n"
   ]
  },
  {
   "cell_type": "markdown",
   "metadata": {},
   "source": [
    "## Cinema\n",
    "\n",
    "- Crie um programa que liste 5 salas de cinema, e mostre os filmes de cada uma das salas e suas classificações indicativas. O usuário\n",
    "deverá informar sua idade e a sala com o filme desejado. Caso o usuário tenha a idade mínima para ver o filme, o programa irá imprimir o ingresso para o filme desejado. Caso o usuário não tenha a idade mínima, o programa deverá informar que ele não tem idade para ver o filme, e deverá retornar a lista de filmes para que o usuário escolha outro filme."
   ]
  },
  {
   "cell_type": "code",
   "execution_count": 12,
   "metadata": {},
   "outputs": [
    {
     "name": "stdout",
     "output_type": "stream",
     "text": [
      "-------------------- CINEMA FLIX --------------------\n",
      "******************** FILMES --------------------\n",
      "SALA 1 - Deadpool e Wolverine - 18\n",
      "SALA 2 - Divertidamente 2 - LIVRE\n",
      "SALA3 - Meu Malvado Favorito 4 - LIVRE\n",
      "SALA 4 -Um Lugar Silencioso - 14\n",
      "SALA 5 -Entrevista com o Demônio 16\n",
      "Eulete escolheu SALA 2 - Divertidamente 2\n"
     ]
    }
   ],
   "source": [
    "nome = input('Diga seu nome: ')\n",
    "idade = input('Diga sua idade: ')\n",
    "\n",
    "\n",
    "while True: \n",
    "    desejo = input('Deseja reservar uma ingresso? (s/n)').lower()\n",
    "    if desejo == 's':\n",
    "          print(20*'-','CINEMA FLIX', 20*'-')\n",
    "          print(20*'*','FILMES', 20*'-')\n",
    "          print('SALA 1 - Deadpool e Wolverine - 18\\nSALA 2 - Divertidamente 2 - LIVRE\\nSALA3 - Meu Malvado Favorito 4 - LIVRE\\nSALA 4 -Um Lugar Silencioso - 14\\nSALA 5 -Entrevista com o Demônio 16')\n",
    "    opcao = input('Digite a opção desejada: (1), (2), (3), (4), (5)')\n",
    "    if opcao == '1':\n",
    "            print(f'{nome} escolheu SALA 1 Deadpool e Wolverine')\n",
    "    elif opcao == '2':\n",
    "            print(f'{nome} escolheu SALA 2 - Divertidamente 2') \n",
    "    elif opcao == '3':\n",
    "            print(f'{nome} escolheu SALA3 - Meu Malvado Favorito 4')   \n",
    "    elif opcao == '4':\n",
    "            print(f'{nome} escolheu SALA 4 -Um Lugar Silencioso') \n",
    "    else:\n",
    "            print(f'{nome} escolheu SALA 5 -Entrevista com o Demônio')\n",
    "\n",
    "            if idade >0:\n",
    "                print(f'Filme com indicação livre {nome} retire seu ingresso.')\n",
    "            elif idade >= 14:\n",
    "                print(f'Filme com indicação 14 anos, {nome} retire seu ingresso.')\n",
    "            elif idade >= 16:\n",
    "                print(f'Filme com indicação 16 anos, {nome}, retire seu ingresso.')\n",
    "            elif idade >= 18:\n",
    "                print(f'Filme com indicação 18 anos, {nome}, retire seu ingresso.')\n",
    "            else:\n",
    "                print(f'{nome} você não pode assistir ao filme escolhido.')\n",
    "else:\n",
    "        print('Finalizando Sistema')\n",
    "    "
   ]
  }
 ],
 "metadata": {
  "kernelspec": {
   "display_name": "Python 3",
   "language": "python",
   "name": "python3"
  },
  "language_info": {
   "codemirror_mode": {
    "name": "ipython",
    "version": 3
   },
   "file_extension": ".py",
   "mimetype": "text/x-python",
   "name": "python",
   "nbconvert_exporter": "python",
   "pygments_lexer": "ipython3",
   "version": "3.12.4"
  }
 },
 "nbformat": 4,
 "nbformat_minor": 2
}
