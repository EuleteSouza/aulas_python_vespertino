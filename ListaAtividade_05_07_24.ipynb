{
 "cells": [
  {
   "cell_type": "markdown",
   "metadata": {},
   "source": [
    "## Operador ternário\n",
    "- Usar operador ternário quando as alternativas forem pequenas, e quando tiver apenas 2 ou no máximo 3 alternativas.\n",
    "- No exemplo a variável precisa ser inteira"
   ]
  },
  {
   "cell_type": "code",
   "execution_count": 1,
   "metadata": {},
   "outputs": [
    {
     "name": "stdout",
     "output_type": "stream",
     "text": [
      "karython é maior de idade.\n"
     ]
    }
   ],
   "source": [
    "nome = 'karython'\n",
    "idade = 18\n",
    "\n",
    "print(nome, 'é maior de idade.' if idade >= 18 else 'é menor de idade')"
   ]
  },
  {
   "cell_type": "markdown",
   "metadata": {},
   "source": [
    "## Replace\n",
    "- substituir"
   ]
  },
  {
   "cell_type": "code",
   "execution_count": 2,
   "metadata": {},
   "outputs": [
    {
     "name": "stdout",
     "output_type": "stream",
     "text": [
      "<class 'str'>\n"
     ]
    },
    {
     "ename": "ValueError",
     "evalue": "could not convert string to float: ''",
     "output_type": "error",
     "traceback": [
      "\u001b[1;31m---------------------------------------------------------------------------\u001b[0m",
      "\u001b[1;31mValueError\u001b[0m                                Traceback (most recent call last)",
      "Cell \u001b[1;32mIn[2], line 3\u001b[0m\n\u001b[0;32m      1\u001b[0m peso \u001b[38;5;241m=\u001b[39m \u001b[38;5;28minput\u001b[39m(\u001b[38;5;124m\"\u001b[39m\u001b[38;5;124mDigite seu peso: \u001b[39m\u001b[38;5;124m\"\u001b[39m)\u001b[38;5;241m.\u001b[39mreplace(\u001b[38;5;124m'\u001b[39m\u001b[38;5;124m,\u001b[39m\u001b[38;5;124m'\u001b[39m,\u001b[38;5;124m'\u001b[39m\u001b[38;5;124m.\u001b[39m\u001b[38;5;124m'\u001b[39m)\n\u001b[0;32m      2\u001b[0m \u001b[38;5;28mprint\u001b[39m(\u001b[38;5;28mtype\u001b[39m(peso))\n\u001b[1;32m----> 3\u001b[0m peso \u001b[38;5;241m=\u001b[39m \u001b[38;5;28;43mfloat\u001b[39;49m\u001b[43m(\u001b[49m\u001b[43mpeso\u001b[49m\u001b[43m)\u001b[49m\n\u001b[0;32m      4\u001b[0m \u001b[38;5;28mprint\u001b[39m(\u001b[38;5;28mtype\u001b[39m(peso))\n",
      "\u001b[1;31mValueError\u001b[0m: could not convert string to float: ''"
     ]
    }
   ],
   "source": [
    "peso = input(\"Digite seu peso: \").replace(',','.')\n",
    "print(type(peso))\n",
    "peso = float(peso)\n",
    "print(type(peso))\n"
   ]
  },
  {
   "cell_type": "markdown",
   "metadata": {},
   "source": [
    "## Desafio 01\n",
    "- Crie um programa para fazer a verificação de um cliente para saber se ele pode usar o brinquedo ou não.\n",
    "    - Para brincar ele precisa:\n",
    "        - ter mais que 12 anos\n",
    "        - ter altura minima de 1,20 mts"
   ]
  },
  {
   "cell_type": "code",
   "execution_count": null,
   "metadata": {},
   "outputs": [
    {
     "name": "stdout",
     "output_type": "stream",
     "text": [
      "Autorizado brincar!\n"
     ]
    }
   ],
   "source": [
    "cliente = 'Eulete'\n",
    "idade = 12\n",
    "altura = 1.20\n",
    "\n",
    "if idade >= 12 and altura >= 1.20:\n",
    "    print(\"Autorizado brincar!\")\n",
    "else:\n",
    "    print('Nao autorizado!')\n",
    "\n",
    "\n"
   ]
  },
  {
   "cell_type": "markdown",
   "metadata": {},
   "source": [
    "## Desafio 02\n",
    "- Crie um programa que verifica se o aluno poderar ir a praia.\n",
    "    - Para ir a praia ele precisa:\n",
    "        - Verifica se acordei de bom humor\n",
    "        - Verifica se o pai ja chegou em casa para leva-lo"
   ]
  },
  {
   "cell_type": "code",
   "execution_count": null,
   "metadata": {},
   "outputs": [
    {
     "name": "stdout",
     "output_type": "stream",
     "text": [
      "Você pode ir\n"
     ]
    }
   ],
   "source": [
    "aluno = input('Digite nome do aluno')\n",
    "humor = input('Informe se seu humor é true ou false')\n",
    "\n",
    "if(humor == 'true'):\n",
    "    humorBooleano = True\n",
    "else:\n",
    "    humorBooleano = False\n",
    "\n",
    "pai = input('Informe se seu pai está em casa com true ou false')\n",
    "if(pai == 'true'):\n",
    "    paiBooleano = True\n",
    "else:\n",
    "    paiBooleano = False\n",
    "\n",
    "\n",
    "if humorBooleano and paiBooleano == True:\n",
    "    print('Você pode ir')\n",
    "else:\n",
    "    print('Voce nao pode ir')\n"
   ]
  },
  {
   "cell_type": "markdown",
   "metadata": {},
   "source": [
    "## Desafio 03\n",
    "- Crie um programa que modifique o cpf digitado\n",
    "    - pegue um cpf qualquer com todos os digitos:\n",
    "        - remova os caracteres\n",
    "        - imprima o cpf sem modificação\n",
    "        - imprima o cpf com modificação"
   ]
  },
  {
   "cell_type": "code",
   "execution_count": null,
   "metadata": {},
   "outputs": [
    {
     "name": "stdout",
     "output_type": "stream",
     "text": [
      "984000881-15\n",
      "98400088115\n"
     ]
    }
   ],
   "source": [
    "cpf = input('Digite o cpf:')\n",
    "print(cpf)\n",
    "\n",
    "cpf = input('Digite novamente o cpf com hifen'). replace('-','')\n",
    "\n",
    "print(cpf)"
   ]
  },
  {
   "cell_type": "markdown",
   "metadata": {},
   "source": [
    "## Desafio 04\n",
    "- Crie uma calculadora de IMC\n",
    "    - Imprima as seguintes condições:?\n",
    "        - imc <17: está com anorexia.\n",
    "        - imc <18.5: está abaixo do peso\n",
    "        - imc <25: está no peso ideal.\n",
    "        - imc <30: está acima do peso.\n",
    "        - imc <35: está com grau de obesidade I.\n",
    "        - imc <40: está com grau de obesidade II.\n",
    "        - imc: está com grau de obesidade mórbida."
   ]
  },
  {
   "cell_type": "code",
   "execution_count": null,
   "metadata": {},
   "outputs": [
    {
     "name": "stdout",
     "output_type": "stream",
     "text": [
      "Está no peso ideal. \n"
     ]
    }
   ],
   "source": [
    "nome = input('Digite seu nome: ')\n",
    "peso = float(input('Digite seu peso: '))\n",
    "altura = float(input('Digite sua altura'))\n",
    "\n",
    "imc = peso / (altura * altura)\n",
    "\n",
    "if imc < 17:\n",
    "    print('Você está com anorexia.')\n",
    "elif imc < 18.5:\n",
    "    print('Você está abaixo do peso. ')\n",
    "elif imc < 25:\n",
    "    print('Está no peso ideal. ')\n",
    "elif imc < 30:\n",
    "    print('Você está acima do peso ')\n",
    "elif imc < 35:\n",
    "    print('Você está com grau de obesidade I. ')\n",
    "elif imc < 40:\n",
    "    print('Você está com grau de obesidade II. ')\n",
    "else:\n",
    "    print('Grau de obesidade morbida.....')"
   ]
  },
  {
   "cell_type": "markdown",
   "metadata": {},
   "source": [
    "## Desafio 05\n",
    "- Crie uma calculadora basica.\n",
    "    - Solicite 2 números do usuário e pergunte qual operação matemática ele deseja fazer.\n",
    "        -   +; -; /; *\n",
    "        - imprima o resultado correto para cada operação"
   ]
  },
  {
   "cell_type": "code",
   "execution_count": null,
   "metadata": {},
   "outputs": [
    {
     "name": "stdout",
     "output_type": "stream",
     "text": [
      "O resultado da operação soma é: 20 \n"
     ]
    }
   ],
   "source": [
    "\n",
    "n1 = (input('Digite um numero:'))\n",
    "n2 = (input('Digite o segundo numero:'))\n",
    "operador = input('Qual operação deseja?\\n Soma digite +\\n Subtração digite -\\n Multiplicação digite x\\n Divisão digite /')\n",
    "\n",
    "n1 = int(n1)\n",
    "n2 = int(n2)\n",
    "\n",
    "soma = n1 + n2\n",
    "subt = n1 - n2\n",
    "mult = n1 * n2\n",
    "divisao = n1 / n2\n",
    "\n",
    "if operador == '+':\n",
    "    print(f'O resultado da operação soma é: {soma} ')\n",
    "elif operador == '-':\n",
    "    print(f'O resultado da subtração é: {subt} ')\n",
    "\n",
    "elif operador == 'x':\n",
    "    print(f'O resultado da multiplicação é:  {mult} ')\n",
    "\n",
    "else:\n",
    "    print(f'O resultado da divisão é:  {divisao} ')"
   ]
  },
  {
   "cell_type": "markdown",
   "metadata": {},
   "source": [
    "## Calculadora de IMC\n",
    "- Usando o loop while"
   ]
  },
  {
   "cell_type": "code",
   "execution_count": null,
   "metadata": {},
   "outputs": [
    {
     "name": "stdout",
     "output_type": "stream",
     "text": [
      "Está no peso ideal. \n",
      "Ok, saindo do sistema!\n"
     ]
    }
   ],
   "source": [
    "while True:\n",
    "    opcao = input('Deseja calcular um IMC? (s/n): ').lower()\n",
    "\n",
    "    if opcao == 's':\n",
    "        peso = float(input('Digite seu peso: '))\n",
    "        altura = float(input('Digite sua altura'))\n",
    "\n",
    "        imc = peso / (altura * altura)\n",
    "\n",
    "        if imc < 17:\n",
    "            print('Você está com anorexia.')\n",
    "        elif imc < 18.5:\n",
    "            print('Você está abaixo do peso. ')\n",
    "        elif imc < 25:\n",
    "            print('Está no peso ideal. ')\n",
    "        elif imc < 30:\n",
    "            print('Você está acima do peso ')\n",
    "        elif imc < 35:\n",
    "            print('Você está com grau de obesidade I. ')\n",
    "        elif imc < 40:\n",
    "            print('Você está com grau de obesidade II. ')\n",
    "        else:\n",
    "            print('Grau de obesidade morbida.....')  \n",
    "    else:\n",
    "        print('Ok, saindo do sistema!')\n",
    "        break\n",
    "    \n",
    "\n"
   ]
  },
  {
   "cell_type": "markdown",
   "metadata": {},
   "source": [
    "# Calculadora "
   ]
  },
  {
   "cell_type": "code",
   "execution_count": null,
   "metadata": {},
   "outputs": [
    {
     "name": "stdout",
     "output_type": "stream",
     "text": [
      "O resultado da operação soma é: 20 \n",
      "Ok! Encerrando..\n"
     ]
    }
   ],
   "source": [
    "while True:\n",
    "    opcao =  input('Deseja fazer algum calculo? (s/n) ').lower()\n",
    "\n",
    "    if opcao == 's':\n",
    "\n",
    "        n1 = (input('Digite um numero:'))\n",
    "        n2 = (input('Digite o segundo numero:'))\n",
    "        operador = input('Qual operação deseja?\\n Soma digite +\\n Subtração digite -\\n Multiplicação digite x\\n Divisão digite /')\n",
    "\n",
    "        n1 = int(n1)\n",
    "        n2 = int(n2)\n",
    "\n",
    "        soma = n1 + n2\n",
    "        subt = n1 - n2\n",
    "        mult = n1 * n2\n",
    "        divisao = n1 / n2\n",
    "\n",
    "        if operador == '+':\n",
    "             print(f'O resultado da operação soma é: {soma} ')\n",
    "        elif operador == '-':\n",
    "            print(f'O resultado da subtração é: {subt} ')\n",
    "\n",
    "        elif operador == 'x':\n",
    "            print(f'O resultado da multiplicação é:  {mult} ')\n",
    "\n",
    "        else:\n",
    "            print(f'O resultado da divisão é:  {divisao} ')\n",
    "    \n",
    "    else: \n",
    "        print('Ok! Encerrando..')\n",
    "        break\n",
    "        \n"
   ]
  },
  {
   "cell_type": "markdown",
   "metadata": {},
   "source": [
    "## Cinema\n",
    "\n",
    "- Crie um programa que liste 5 salas de cinema, e mostre os filmes de cada uma das salas e suas classificações indicativas. O usuário\n",
    "deverá informar sua idade e a sala com o filme desejado. Caso o usuário tenha a idade mínima para ver o filme, o programa irá imprimir o ingresso para o filme desejado. Caso o usuário não tenha a idade mínima, o programa deverá informar que ele não tem idade para ver o filme, e deverá retornar a lista de filmes para que o usuário escolha outro filme."
   ]
  },
  {
   "cell_type": "code",
   "execution_count": null,
   "metadata": {},
   "outputs": [
    {
     "ename": "SyntaxError",
     "evalue": "unterminated string literal (detected at line 6) (2159573256.py, line 6)",
     "output_type": "error",
     "traceback": [
      "\u001b[1;36m  Cell \u001b[1;32mIn[1], line 6\u001b[1;36m\u001b[0m\n\u001b[1;33m    desejo = input('Deseja reservar umn\u001b[0m\n\u001b[1;37m                   ^\u001b[0m\n\u001b[1;31mSyntaxError\u001b[0m\u001b[1;31m:\u001b[0m unterminated string literal (detected at line 6)\n"
     ]
    }
   ],
   "source": [
    "nome = input('Diga seu nome: ')\n",
    "idade = input('Diga sua idade: ')\n",
    "\n",
    "\n",
    "while True: \n",
    "    desejo = input('Deseja reservar umn\n",
    "                    ingresso? (s/n)').lower()\n",
    "    if desejo == 's':\n",
    "          print(20*'-','CINEMA FLIX', 20*'-')\n",
    "          print(20*'*','FILMES', 20*'-')\n",
    "          print('SALA 1 - Deadpool e Wolverine - 18\\nSALA 2 - Divertidamente 2 - LIVRE\\nSALA3 - Meu Malvado Favorito 4 - LIVRE\\nSALA 4 -Um Lugar Silencioso - 14\\nSALA 5 -Entrevista com o Demônio 16\\n')\n",
    "    opcao = input('Digite a opção desejada: (1), (2), (3), (4), (5)')\n",
    "    if opcao == '1':\n",
    "            print(f'{nome} escolheu SALA 1 Deadpool e Wolverine')\n",
    "    elif opcao == '2':\n",
    "            print(f'{nome} escolheu SALA 2 - Divertidamente 2') \n",
    "    elif opcao == '3':\n",
    "            print(f'{nome} escolheu SALA3 - Meu Malvado Favorito 4')   \n",
    "    elif opcao == '4':\n",
    "            print(f'{nome} escolheu SALA 4 -Um Lugar Silencioso') \n",
    "    else:\n",
    "            print(f'{nome} escolheu SALA 5 -Entrevista com o Demônio')\n",
    "\n",
    "            if opcao == 1 and idade >=18:\n",
    "                print(f'{nome} retire seu ingresso.')\n",
    "            elif opcao == 2 and idade > 0:\n",
    "                print(f'{nome} retire seu ingresso.')\n",
    "            elif opcao == 3 and idade > 0 :\n",
    "                print(f'{nome}, retire seu ingresso.')\n",
    "            elif opcao == 4 and idade >= 14:\n",
    "            \n",
    "\n",
    "    \n",
    "\n",
    "    \n",
    "    \n",
    "       "
   ]
  },
  {
   "cell_type": "markdown",
   "metadata": {},
   "source": [
    "# For\n",
    "- como chamar cada nome da lista\n"
   ]
  },
  {
   "cell_type": "code",
   "execution_count": null,
   "metadata": {},
   "outputs": [
    {
     "name": "stdout",
     "output_type": "stream",
     "text": [
      "O primeiro nome da lista é gomes\n",
      "O segundo nome da lista é lucas\n",
      "O terceiro nome da lista é pedro\n",
      "\n",
      "\n",
      "1º colocado: gomes\n",
      "2º colocado: lucas\n",
      "3º colocado: pedro\n",
      "4º colocado: paulo\n"
     ]
    }
   ],
   "source": [
    "lista = ['gomes', 'lucas', 'pedro', 'paulo']\n",
    "print(f'O primeiro nome da lista é {lista[0]}')\n",
    "print(f'O segundo nome da lista é {lista[1]}')\n",
    "print(f'O terceiro nome da lista é {lista[2]}')\n",
    "\n",
    "print()\n",
    "#for i in range(5):\n",
    "  #  print(f'{i + 1}º nome: {lista[i]}')\n",
    "\n",
    "print()\n",
    "\n",
    "\n",
    "for i in range(len(lista)):\n",
    "    print(f'{i + 1}º colocado: {lista[i]}')"
   ]
  },
  {
   "cell_type": "code",
   "execution_count": null,
   "metadata": {},
   "outputs": [
    {
     "name": "stdout",
     "output_type": "stream",
     "text": [
      "8 X 1 = 8\n",
      "8 X 2 = 16\n",
      "8 X 3 = 24\n",
      "8 X 4 = 32\n",
      "8 X 5 = 40\n",
      "8 X 6 = 48\n",
      "8 X 7 = 56\n",
      "8 X 8 = 64\n",
      "8 X 9 = 72\n",
      "8 X 10 = 80\n"
     ]
    }
   ],
   "source": [
    "x = int(input('Digite um numero inteiro'))\n",
    "for num in range(1,11):\n",
    "    print(f'{x} X {num} = {x * num}')"
   ]
  },
  {
   "cell_type": "markdown",
   "metadata": {},
   "source": [
    "## jogo\n"
   ]
  },
  {
   "cell_type": "code",
   "execution_count": 3,
   "metadata": {},
   "outputs": [
    {
     "name": "stdout",
     "output_type": "stream",
     "text": [
      "O vencedor é: joao\n"
     ]
    }
   ],
   "source": [
    "import random\n",
    "\n",
    "lista = []\n",
    "\n",
    "while True:\n",
    "    nome = input('Digite os nomes que serão sorteados: ')\n",
    "\n",
    "    if nome != '':\n",
    "        lista.append(nome)\n",
    "    else:\n",
    "        break\n",
    "\n",
    "premiado = random.choice(lista)\n",
    "print(f'O vencedor é: {premiado}')"
   ]
  },
  {
   "cell_type": "markdown",
   "metadata": {},
   "source": [
    "# LISTA\n"
   ]
  },
  {
   "cell_type": "code",
   "execution_count": 1,
   "metadata": {},
   "outputs": [
    {
     "name": "stdout",
     "output_type": "stream",
     "text": [
      "['gomes', 'oliveira', 'lucas', 'jose', 'pedro', 'garoto de prog', 'lucas', 'joão']\n"
     ]
    }
   ],
   "source": [
    "nomes = ['gomes', 'oliveira', 'lucas','jose','pedro','maria','lucas','joão']\n",
    "#substituindo um valor na lista atraves do seu índice\n",
    "\n",
    "nomes[5] = 'garoto de prog'\n",
    "print(nomes)"
   ]
  },
  {
   "cell_type": "code",
   "execution_count": 2,
   "metadata": {},
   "outputs": [
    {
     "name": "stdout",
     "output_type": "stream",
     "text": [
      "lista desordenada: [10, 9, 8, 7, 6, 5, 4, 3, 2, 1]\n",
      "Lista ordenada: [1, 2, 3, 4, 5, 6, 7, 8, 9, 10]\n"
     ]
    }
   ],
   "source": [
    "lista1 = [10,9,8,7,6,5,4,3,2,1]\n",
    "\n",
    "#lista ordenada crescente\n",
    "print(f'lista desordenada: {lista1}')\n",
    "lista1.sort()\n",
    "print(f'Lista ordenada: {lista1}')"
   ]
  },
  {
   "cell_type": "code",
   "execution_count": 3,
   "metadata": {},
   "outputs": [
    {
     "name": "stdout",
     "output_type": "stream",
     "text": [
      "lista desordenada: [5, 2, 9, 4, 10, 8, 1, 3, 6, 7]\n",
      "Lista ordenada decrescente: [10, 9, 8, 7, 6, 5, 4, 3, 2, 1]\n"
     ]
    }
   ],
   "source": [
    "lista1 = [5,2,9,4,10,8,1,3,6,7]\n",
    "\n",
    "#lista ordenada decrescente\n",
    "print(f'lista desordenada: {lista1}')\n",
    "lista1.sort(reverse=True)\n",
    "print(f'Lista ordenada decrescente: {lista1}')"
   ]
  }
 ],
 "metadata": {
  "kernelspec": {
   "display_name": "Python 3",
   "language": "python",
   "name": "python3"
  },
  "language_info": {
   "codemirror_mode": {
    "name": "ipython",
    "version": 3
   },
   "file_extension": ".py",
   "mimetype": "text/x-python",
   "name": "python",
   "nbconvert_exporter": "python",
   "pygments_lexer": "ipython3",
   "version": "3.12.4"
  }
 },
 "nbformat": 4,
 "nbformat_minor": 2
}
