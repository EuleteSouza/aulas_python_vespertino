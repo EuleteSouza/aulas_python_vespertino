{
 "cells": [
  {
   "cell_type": "markdown",
   "metadata": {},
   "source": [
    "## Declarando Variáveis"
   ]
  },
  {
   "cell_type": "code",
   "execution_count": 3,
   "metadata": {},
   "outputs": [
    {
     "name": "stdout",
     "output_type": "stream",
     "text": [
      "karython gomes\n",
      "25\n",
      "80\n",
      "1.75\n",
      "True\n"
     ]
    },
    {
     "data": {
      "text/plain": [
       "'\\nprint(nome, type(nome))\\n\\nprint(type(idade))\\nprint(type(altura))\\nprint(type(instrutor))\\n\\n'"
      ]
     },
     "execution_count": 3,
     "metadata": {},
     "output_type": "execute_result"
    }
   ],
   "source": [
    "nome = \"karython gomes\" # string\n",
    "idade = 25 # inteiro\n",
    "peso = 80 # float\n",
    "altura = 1.75 # float\n",
    "instrutor = True #boolean\n",
    "\n",
    "print(nome)\n",
    "print(idade)\n",
    "print(peso)\n",
    "print(altura)\n",
    "print(instrutor)\n",
    "\n",
    "'''\n",
    "print(nome, type(nome))\n",
    "\n",
    "print(type(idade))\n",
    "print(type(altura))\n",
    "print(type(instrutor))\n",
    "\n",
    "'''"
   ]
  },
  {
   "cell_type": "markdown",
   "metadata": {},
   "source": [
    "## Convertendo tipos de Dados"
   ]
  },
  {
   "cell_type": "code",
   "execution_count": 2,
   "metadata": {},
   "outputs": [
    {
     "name": "stdout",
     "output_type": "stream",
     "text": [
      "valor sem conversao <class 'int'>\n",
      "segundo valor ja convertido <class 'str'>\n"
     ]
    }
   ],
   "source": [
    "valor = 15 \n",
    "print('valor sem conversao',type(valor))\n",
    "valor = str(valor)\n",
    "print('segundo valor ja convertido',type(valor))\n"
   ]
  },
  {
   "cell_type": "markdown",
   "metadata": {},
   "source": [
    "## Concatenação\n",
    "\n",
    "- Concatenação usando o sinal de +, eu não consigo concaternar variáreis do tipo inteiro (int)"
   ]
  },
  {
   "cell_type": "code",
   "execution_count": 9,
   "metadata": {},
   "outputs": [
    {
     "name": "stdout",
     "output_type": "stream",
     "text": [
      "Olá, meu nome é karython gomes!\n",
      "Olá, meu nome é karython gomes! tenho 15 anos de idade\n",
      "Olá, meu nome é  karython gomes tenho  15  anos de idade\n",
      "Olá, meu nome é karython gomes e tenho 15 anos de idade!\n"
     ]
    }
   ],
   "source": [
    "nome = 'karython gomes'\n",
    "idade = 15\n",
    "altura = 1.75\n",
    "\n",
    "# modo 1\n",
    "print('Olá, meu nome é '+ nome + '!')\n",
    "\n",
    "# modo 2\n",
    "print('Olá, meu nome é '+ nome + '! tenho '+ str(idade) + ' anos de idade') #para concatenar (+) mais de uma variável, deve-se mudar para string\n",
    "\n",
    "# modo 3\n",
    "print('Olá, meu nome é ', nome, 'tenho ', idade, ' anos de idade') #para concatenar sem o +, basta as virgulas\n",
    "\n",
    "\n",
    "# modo 4\n",
    "print(f\"Olá, meu nome é {nome} e tenho {idade} anos de idade!\")\n"
   ]
  },
  {
   "cell_type": "markdown",
   "metadata": {},
   "source": [
    "## Entrada de Dados"
   ]
  },
  {
   "cell_type": "code",
   "execution_count": 12,
   "metadata": {},
   "outputs": [
    {
     "name": "stdout",
     "output_type": "stream",
     "text": [
      "gomes\n",
      "15\n"
     ]
    }
   ],
   "source": [
    "nome = input('Digite seu nome: ')\n",
    "print(nome)\n",
    "\n",
    "idade = int(input('Digite sua idade: '))\n",
    "print(idade)"
   ]
  },
  {
   "cell_type": "markdown",
   "metadata": {},
   "source": [
    "## Atividade"
   ]
  },
  {
   "cell_type": "code",
   "execution_count": 19,
   "metadata": {},
   "outputs": [
    {
     "name": "stdout",
     "output_type": "stream",
     "text": [
      "Seu nome é ('Eulete', <class 'str'>), \n",
      "você tem 41 anos, \n",
      "seu peso é 78.0 e \n",
      "sua altura é 1.79.\n",
      "<class 'str'>\n",
      "<class 'int'>\n",
      "<class 'float'>\n",
      "<class 'float'>\n"
     ]
    }
   ],
   "source": [
    "nome = input('Digite seu nome: ')\n",
    "idade = int(input('Digite sua idade: '))\n",
    "peso = float(input('Digite seu peso: '))\n",
    "altura = float(input('Digite sua altura: '))\n",
    "\n",
    "print(f'Seu nome é {nome, type(nome)}, \\nvocê tem {idade} anos, \\nseu peso é {peso} e \\nsua altura é {altura}.')\n",
    "\n",
    "\n",
    "print(type(nome))\n",
    "print(type(idade))\n",
    "print(type(peso))\n",
    "print(type(altura))\n",
    "\n"
   ]
  }
 ],
 "metadata": {
  "kernelspec": {
   "display_name": ".venv",
   "language": "python",
   "name": "python3"
  },
  "language_info": {
   "codemirror_mode": {
    "name": "ipython",
    "version": 3
   },
   "file_extension": ".py",
   "mimetype": "text/x-python",
   "name": "python",
   "nbconvert_exporter": "python",
   "pygments_lexer": "ipython3",
   "version": "3.12.4"
  }
 },
 "nbformat": 4,
 "nbformat_minor": 2
}
