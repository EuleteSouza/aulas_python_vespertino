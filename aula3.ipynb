{
 "cells": [
  {
   "cell_type": "code",
   "execution_count": null,
   "metadata": {},
   "outputs": [],
   "source": []
  },
  {
   "cell_type": "markdown",
   "metadata": {},
   "source": [
    "## Operadores\n",
    "- soma\n",
    "- subtração\n",
    "- multiplicação\n",
    "- divisão"
   ]
  },
  {
   "cell_type": "code",
   "execution_count": 7,
   "metadata": {},
   "outputs": [
    {
     "name": "stdout",
     "output_type": "stream",
     "text": [
      "20\n",
      "1010\n",
      "20\n",
      "O resultado é: 1010\n",
      "O resultado é: 50\n",
      "O resultado é: 80\n"
     ]
    }
   ],
   "source": [
    "# Soma\n",
    "print(10+10)\n",
    "# concatena\n",
    "print('10'+'10')\n",
    "\n",
    "# somando com variáveis\n",
    "num1 = 10\n",
    "num2 = 10\n",
    "\n",
    "soma = num1 + num2\n",
    "\n",
    "print(soma)\n",
    "\n",
    "valor1 = input('Digite o primeiro valor: ')\n",
    "valor2 = input('Digite o segundo valor: ')\n",
    "\n",
    "resultado = valor1 + valor2\n",
    "print(f'O resultado é: {resultado}') #desta forma, em vez de somar, vai concatenar, então restringe com int antes do input ou faça a conversão para int\n",
    "\n",
    "#com int antes de input - restringindo\n",
    "\n",
    "valor1 = int(input('Digite o primeiro valor: '))\n",
    "valor2 = int(input('Digite o segundo valor: '))\n",
    "\n",
    "resultado = valor1 + valor2\n",
    "print(f'O resultado é: {resultado}') \n",
    "\n",
    "#convertendo o valor\n",
    "\n",
    "valor1 = input('Digite o primeiro valor: ')\n",
    "valor1 = int(valor1)\n",
    "\n",
    "valor2 = input('Digite o segundo valor: ')\n",
    "valor2 = int(valor2)\n",
    "\n",
    "resultado = valor1 + valor2\n",
    "print(f'O resultado é: {resultado}') "
   ]
  },
  {
   "cell_type": "code",
   "execution_count": 11,
   "metadata": {},
   "outputs": [
    {
     "name": "stdout",
     "output_type": "stream",
     "text": [
      "20\n",
      "Resultado da subtração é: 30\n"
     ]
    }
   ],
   "source": [
    "# Subtração\n",
    "\n",
    "num1 = 70\n",
    "num2 = 50\n",
    "\n",
    "subtracao = num1 - num2\n",
    "print(subtracao)\n",
    "\n",
    "valor1 = int(input('Digite o primeiro numero: '))\n",
    "valor2 = int(input('Digitar o segundo numero: '))\n",
    "\n",
    "resultado = valor1 - valor2\n",
    "print(f'Resultado da subtração é: {resultado}')"
   ]
  },
  {
   "cell_type": "code",
   "execution_count": 13,
   "metadata": {},
   "outputs": [
    {
     "name": "stdout",
     "output_type": "stream",
     "text": [
      "15\n",
      "Resultado é: 20\n"
     ]
    }
   ],
   "source": [
    "# Multiplicação\n",
    "\n",
    "num1 = 3\n",
    "num2 = 5\n",
    "\n",
    "multiplicacao = num1 * num2\n",
    "print(multiplicacao)\n",
    "\n",
    "\n",
    "num1 = int(input('Digite o primeiro numero: '))\n",
    "num2 = int(input('Digite o segundo numero: '))\n",
    "\n",
    "resultado = num1 * num2\n",
    "print(f'Resultado é: {resultado}')"
   ]
  },
  {
   "cell_type": "code",
   "execution_count": 20,
   "metadata": {},
   "outputs": [
    {
     "name": "stdout",
     "output_type": "stream",
     "text": [
      "5.0\n",
      "Resultado é: (2.5, <class 'float'>)\n"
     ]
    }
   ],
   "source": [
    "#Divisao\n",
    "\n",
    "num1 = 10\n",
    "num2 = 2\n",
    "divisao = num1 / num2\n",
    "\n",
    "print(divisao)\n",
    "\n",
    "num1 = int(input('Digite o primeiro numero: '))\n",
    "num2 = int(input('Digite o segundo numero: '))\n",
    "\n",
    "resultado = num1 / num2\n",
    "print(f'Resultado é: {resultado, type(resultado)}')"
   ]
  },
  {
   "cell_type": "markdown",
   "metadata": {},
   "source": [
    "## Atividade\n",
    "# Desafio 1\n",
    "- Declare 2 variáveis, cada uma com um valor definido. Some e mostre o \n",
    "resultado concatenado a um texto.\n",
    "\n",
    "# Desafio 2\n",
    "- Crie um sistema onde o usuário irá inserir 2 valores, guarde-os em variáveis, e em seguida\n",
    "realize as 4 operações matemáticas basicas (+, -, *, /) e mostre o resultado de cada uma na tela\n",
    "com texto indicando qual operação foi realizada.\n",
    "\n",
    "# Desafio 3\n",
    "- Crie um sistema que receba o nome do usuario, a idade, so podendo receber um valor inteiro,\n",
    "em seguida mostre as informações obtidas (nome e idade) e peça ao usuário que digite 2 números para que \n",
    "sejam somados, mostre a soma dos 2 numeros."
   ]
  },
  {
   "cell_type": "code",
   "execution_count": 47,
   "metadata": {},
   "outputs": [
    {
     "ename": "TypeError",
     "evalue": "'str' object is not callable",
     "output_type": "error",
     "traceback": [
      "\u001b[1;31m---------------------------------------------------------------------------\u001b[0m",
      "\u001b[1;31mTypeError\u001b[0m                                 Traceback (most recent call last)",
      "Cell \u001b[1;32mIn[47], line 7\u001b[0m\n\u001b[0;32m      4\u001b[0m numero2 \u001b[38;5;241m=\u001b[39m \u001b[38;5;241m2\u001b[39m\n\u001b[0;32m      5\u001b[0m soma \u001b[38;5;241m=\u001b[39m numero1 \u001b[38;5;241m+\u001b[39m numero2\n\u001b[1;32m----> 7\u001b[0m \u001b[38;5;28;43mprint\u001b[39;49m\u001b[43m(\u001b[49m\u001b[38;5;124;43mf\u001b[39;49m\u001b[38;5;124;43m'\u001b[39;49m\u001b[38;5;124;43m10 + 2 =  \u001b[39;49m\u001b[38;5;132;43;01m{\u001b[39;49;00m\u001b[43msoma\u001b[49m\u001b[38;5;132;43;01m}\u001b[39;49;00m\u001b[38;5;124;43m'\u001b[39;49m\u001b[43m)\u001b[49m\n",
      "\u001b[1;31mTypeError\u001b[0m: 'str' object is not callable"
     ]
    }
   ],
   "source": [
    "# Desafio 1\n",
    "\n",
    "numero1 = 10\n",
    "numero2 = 2\n",
    "soma = numero1 + numero2\n",
    "\n",
    "print(f'10 + 2 =  {soma}')\n"
   ]
  },
  {
   "cell_type": "code",
   "execution_count": 33,
   "metadata": {},
   "outputs": [
    {
     "name": "stdout",
     "output_type": "stream",
     "text": [
      "A soma de  50 + 2 é: 52\n",
      "A subtração de 50 - 2 é: 48\n",
      "A multiplicação de 50 * 2 é: 100\n",
      "A divisão de 50/2 é: 25.0\n"
     ]
    }
   ],
   "source": [
    "# Desafio 2\n",
    "\n",
    "num_1 = int(input('Informe o primeiro número: '))\n",
    "num_2 = int(input('Informe o segundo número: '))\n",
    "\n",
    "soma = num_1 + num_2\n",
    "subtracao = num_1 - num_2\n",
    "multip = num_1 * num_2 \n",
    "div = num_1 / num_2\n",
    "\n",
    "print(f'A soma de  {num_1} + {num_2} é: {soma}')\n",
    "print(f\"A subtração de {num_1} - {num_2} é: {subtracao}\")\n",
    "print(f'A multiplicação de {num_1} * {num_2} é: {multip}')\n",
    "print(f'A divisão de {num_1}/{num_2} é: {div}')"
   ]
  },
  {
   "cell_type": "code",
   "execution_count": 1,
   "metadata": {},
   "outputs": [
    {
     "name": "stdout",
     "output_type": "stream",
     "text": [
      "O seu nome é gomes  e sua idade é  25\n",
      "gomes, a soma de 20 + 10: 30\n"
     ]
    }
   ],
   "source": [
    "# Desafio 3\n",
    "\n",
    "nome = input('Diga seu nome')\n",
    "idade = input('Diga sua idade')\n",
    "\n",
    "\n",
    "\n",
    "print('O seu nome é', nome, ' e sua idade é ', idade)\n",
    "\n",
    "num3 = int(input('Informe um numero: '))\n",
    "num4 = int(input('Informe um segundo numero para somar:'))\n",
    "total = num3 + num4\n",
    "\n",
    "print(f'{nome}, a soma de {num3} + {num4}: {total}')\n",
    "\n"
   ]
  }
 ],
 "metadata": {
  "kernelspec": {
   "display_name": ".venv",
   "language": "python",
   "name": "python3"
  },
  "language_info": {
   "codemirror_mode": {
    "name": "ipython",
    "version": 3
   },
   "file_extension": ".py",
   "mimetype": "text/x-python",
   "name": "python",
   "nbconvert_exporter": "python",
   "pygments_lexer": "ipython3",
   "version": "3.12.4"
  }
 },
 "nbformat": 4,
 "nbformat_minor": 2
}
