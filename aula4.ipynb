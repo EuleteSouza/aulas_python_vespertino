{
 "cells": [
  {
   "cell_type": "code",
   "execution_count": null,
   "metadata": {},
   "outputs": [],
   "source": []
  },
  {
   "cell_type": "markdown",
   "metadata": {},
   "source": [
    "## Revisão Aula Python\n",
    "\n",
    "\n"
   ]
  },
  {
   "cell_type": "markdown",
   "metadata": {},
   "source": [
    "## Atividade\n",
    "\n",
    "- Crie um programa para o Boletim de notas do aluno. Guarde o nome do aluno, as notas e calcule a media final do aluno.\n",
    "\n",
    "- Disciplinas:\n",
    "\n",
    "   - Matemática\n",
    "   - Português\n",
    "   - Geografia\n",
    "   - Historia\n",
    "   - Física\n",
    "\n",
    "- Ao obter as notas ea media das notas, imprima o boletim do aluno informando as notas das materias e com quanto ele ficou de media.\n"
   ]
  },
  {
   "cell_type": "code",
   "execution_count": 15,
   "metadata": {},
   "outputs": [
    {
     "name": "stdout",
     "output_type": "stream",
     "text": [
      "-------------------- BOLETIM ESCOLAR --------------------\n",
      "A nota de matemática é: 5.0 \n",
      "a nota de português é: 8.0 \n",
      "a nota de geografia é: 6.5 \n",
      "a nota de história é: 7.0 \n",
      "a nota de fisica é: 9.5\n",
      "A média das notas do(a) aluno(a) EULETE é 7.20\n",
      "------------------------------------------------------------\n"
     ]
    }
   ],
   "source": [
    "# Boletim\n",
    "\n",
    "print(20*'-', 'BOLETIM ESCOLAR', 20*'-')\n",
    "nome = input('Nome do aluno')\n",
    "nota_matematica = input('Informe a nota de matemática: ')\n",
    "nota_matematica = float(nota_matematica)\n",
    "nota_portugues = input('Informe a nota de português: ')\n",
    "nota_portugues = float(nota_portugues)\n",
    "nota_geografia = input('Informe a nota de geografia: ')\n",
    "nota_geografia = float(nota_geografia)\n",
    "nota_historia = input('Informe a nota de história: ')\n",
    "nota_historia = float(nota_historia)\n",
    "nota_fisica = input('Informe a nota de física: ')\n",
    "nota_fisica = float(nota_fisica)\n",
    "\n",
    "media = (nota_matematica + nota_portugues + nota_geografia + nota_historia + nota_fisica)/5\n",
    "\n",
    "print(f'A nota de matemática é: {nota_matematica} \\na nota de português é: {nota_portugues} \\na nota de geografia é: {nota_geografia} \\na nota de história é: {nota_historia} \\na nota de fisica é: {nota_fisica}')\n",
    "print(f'A média das notas do(a) aluno(a) {nome} é {media:.2f}')\n",
    "print(60*'-')"
   ]
  },
  {
   "cell_type": "code",
   "execution_count": null,
   "metadata": {},
   "outputs": [],
   "source": []
  }
 ],
 "metadata": {
  "kernelspec": {
   "display_name": ".venv",
   "language": "python",
   "name": "python3"
  },
  "language_info": {
   "codemirror_mode": {
    "name": "ipython",
    "version": 3
   },
   "file_extension": ".py",
   "mimetype": "text/x-python",
   "name": "python",
   "nbconvert_exporter": "python",
   "pygments_lexer": "ipython3",
   "version": "3.12.4"
  }
 },
 "nbformat": 4,
 "nbformat_minor": 2
}
