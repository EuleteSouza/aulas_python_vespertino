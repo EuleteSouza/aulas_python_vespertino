{
 "cells": [
  {
   "cell_type": "code",
   "execution_count": null,
   "metadata": {},
   "outputs": [],
   "source": []
  },
  {
   "cell_type": "markdown",
   "metadata": {},
   "source": [
    "# Aula 5\n"
   ]
  },
  {
   "cell_type": "code",
   "execution_count": null,
   "metadata": {},
   "outputs": [],
   "source": [
    "nota = 5 \n",
    "\n",
    "if nota >= 7:\n",
    "    print(\"aluno aprovado\")\n",
    "\n",
    "elif nota >=5:\n",
    "    print(\"Está de recureração\")\n",
    "else:\n",
    "    print(\"Reprovado\")"
   ]
  }
 ],
 "metadata": {
  "language_info": {
   "name": "python"
  }
 },
 "nbformat": 4,
 "nbformat_minor": 2
}
